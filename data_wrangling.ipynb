{
 "cells": [
  {
   "cell_type": "code",
   "execution_count": null,
   "metadata": {},
   "outputs": [],
   "source": [
    "import os\n",
    "\n",
    "import numpy as np\n",
    "import pandas as pd \n",
    "import matplotlib.pyplot as plt\n",
    "\n",
    "from pandas.tseries.frequencies import to_offset"
   ]
  },
  {
   "cell_type": "code",
   "execution_count": null,
   "metadata": {},
   "outputs": [],
   "source": [
    "print(*os.listdir(\"./data\"), sep=\"\\n\")"
   ]
  },
  {
   "cell_type": "code",
   "execution_count": null,
   "metadata": {},
   "outputs": [],
   "source": [
    "orig_data_dir = \"./data/orig_data/\"\n",
    "print(*os.listdir(orig_data_dir), sep=\"\\n\")"
   ]
  },
  {
   "cell_type": "code",
   "execution_count": null,
   "metadata": {},
   "outputs": [],
   "source": [
    "prices_df = pd.read_csv(orig_data_dir+\"PricesFile1.csv\")\n",
    "prices_df.info()"
   ]
  },
  {
   "cell_type": "code",
   "execution_count": null,
   "metadata": {},
   "outputs": [],
   "source": [
    "prices_df.head()"
   ]
  },
  {
   "cell_type": "code",
   "execution_count": null,
   "metadata": {},
   "outputs": [],
   "source": [
    "prices_df.pricedate, prices_df.delivdate = pd.to_datetime(prices_df.pricedate), pd.to_datetime(prices_df.delivdate)\n",
    "prices_df.info()"
   ]
  },
  {
   "cell_type": "code",
   "execution_count": null,
   "metadata": {},
   "outputs": [],
   "source": [
    "prices_df.rename(columns={\"priceindex\" : \"index\", \"pricedate\" : \"t\", \"delivdate\" : \"T\", \"price\" : \"F\"}, \n",
    "                 inplace=True)\n",
    "prices_df.head()"
   ]
  },
  {
   "cell_type": "code",
   "execution_count": null,
   "metadata": {},
   "outputs": [],
   "source": [
    "p_i = prices_df[\"index\"].unique()\n",
    "print(*p_i, sep=\"\\n\")"
   ]
  },
  {
   "cell_type": "code",
   "execution_count": null,
   "metadata": {},
   "outputs": [],
   "source": [
    "prices_df[\"index\"].value_counts()"
   ]
  },
  {
   "cell_type": "code",
   "execution_count": null,
   "metadata": {},
   "outputs": [],
   "source": [
    "grouped_by_p_i = prices_df.groupby(\"index\")"
   ]
  },
  {
   "cell_type": "code",
   "execution_count": null,
   "metadata": {},
   "outputs": [],
   "source": [
    "for i in range(len(p_i)):\n",
    "    \n",
    "    df = grouped_by_p_i.get_group(p_i[i])\n",
    "    print(\"index : \" + p_i[i])\n",
    "    print(\"t_min is \" + str(min(df.t).date()) + \"\\t\" + \"t_max is \" + str(max(df.t).date()))\n",
    "    print(\"T_min is \" + str(min(df[\"T\"]).date()) + \"\\t\" + \"T_max is \" + str(max(df[\"T\"]).date()) + \"\\n\")\n",
    "    \n",
    "    del df\n",
    "del i"
   ]
  },
  {
   "cell_type": "code",
   "execution_count": null,
   "metadata": {},
   "outputs": [],
   "source": [
    "df = prices_df[prices_df.t > prices_df[\"T\"]]\n",
    "df.head()"
   ]
  },
  {
   "cell_type": "code",
   "execution_count": null,
   "metadata": {},
   "outputs": [],
   "source": [
    "df[\"index\"].value_counts()"
   ]
  },
  {
   "cell_type": "code",
   "execution_count": null,
   "metadata": {},
   "outputs": [],
   "source": [
    "df.nunique()"
   ]
  },
  {
   "cell_type": "code",
   "execution_count": null,
   "metadata": {},
   "outputs": [],
   "source": [
    "del df"
   ]
  },
  {
   "cell_type": "code",
   "execution_count": null,
   "metadata": {},
   "outputs": [],
   "source": [
    "AECO_futures_df = grouped_by_p_i.get_group(p_i[1])\n",
    "AECO_futures_df.head()"
   ]
  },
  {
   "cell_type": "code",
   "execution_count": null,
   "metadata": {},
   "outputs": [],
   "source": [
    "AECO_futures_df.info()"
   ]
  },
  {
   "cell_type": "code",
   "execution_count": null,
   "metadata": {},
   "outputs": [],
   "source": [
    "AECO_futures_df.to_csv(r\"./data/wrangled_data/AECO_futures.csv\")"
   ]
  },
  {
   "cell_type": "code",
   "execution_count": null,
   "metadata": {},
   "outputs": [],
   "source": [
    "NG_futures_df = grouped_by_p_i.get_group(p_i[2])\n",
    "NG_futures_df.head()"
   ]
  },
  {
   "cell_type": "code",
   "execution_count": null,
   "metadata": {},
   "outputs": [],
   "source": [
    "NG_futures_df.info()"
   ]
  },
  {
   "cell_type": "code",
   "execution_count": null,
   "metadata": {},
   "outputs": [],
   "source": [
    "NG_futures_df.to_csv(r\"./data/wrangled_data/NG_futures.csv\")"
   ]
  },
  {
   "cell_type": "code",
   "execution_count": null,
   "metadata": {},
   "outputs": [],
   "source": [
    "WTI_futures_df = grouped_by_p_i.get_group(p_i[3])\n",
    "WTI_futures_df = WTI_futures_df[WTI_futures_df.t < WTI_futures_df[\"T\"]]\n",
    "WTI_futures_df.head()"
   ]
  },
  {
   "cell_type": "code",
   "execution_count": null,
   "metadata": {},
   "outputs": [],
   "source": [
    "WTI_futures_df.info()"
   ]
  },
  {
   "cell_type": "code",
   "execution_count": null,
   "metadata": {},
   "outputs": [],
   "source": [
    "WTI_futures_df.to_csv(r\"./data/wrangled_data/WTI_futures.csv\")"
   ]
  },
  {
   "cell_type": "code",
   "execution_count": null,
   "metadata": {},
   "outputs": [],
   "source": [
    "NG_IV_20_df = pd.read_csv(orig_data_dir+\"NG_ImpliedVols2020.csv\")\n",
    "NG_IV_20_df.head()"
   ]
  },
  {
   "cell_type": "code",
   "execution_count": null,
   "metadata": {},
   "outputs": [],
   "source": [
    "NG_IV_20_df.info()"
   ]
  },
  {
   "cell_type": "code",
   "execution_count": null,
   "metadata": {},
   "outputs": [],
   "source": [
    "NG_IV_21_df = pd.read_csv(orig_data_dir+\"NG_ImpliedVols2021.csv\")\n",
    "NG_IV_21_df.head()"
   ]
  },
  {
   "cell_type": "code",
   "execution_count": null,
   "metadata": {},
   "outputs": [],
   "source": [
    "NG_IV_21_df.info()"
   ]
  },
  {
   "cell_type": "code",
   "execution_count": null,
   "metadata": {},
   "outputs": [],
   "source": [
    "NG_IV_22_df = pd.read_csv(orig_data_dir+\"NG_ImpliedVols2022.csv\")\n",
    "NG_IV_22_df.head()"
   ]
  },
  {
   "cell_type": "code",
   "execution_count": null,
   "metadata": {},
   "outputs": [],
   "source": [
    "NG_IV_22_df.info()"
   ]
  },
  {
   "cell_type": "code",
   "execution_count": null,
   "metadata": {},
   "outputs": [],
   "source": [
    "frames = [NG_IV_20_df, NG_IV_21_df, NG_IV_22_df]\n",
    "NG_IV_df = pd.concat(frames)\n",
    "\n",
    "del frames"
   ]
  },
  {
   "cell_type": "code",
   "execution_count": null,
   "metadata": {},
   "outputs": [],
   "source": [
    "NG_IV_df.rename(columns={\"volatilityindex\" : \"index\", \"volatilitydate\" : \"t\", \"strikeprice\" : \"K\",\n",
    "                         \"begtime\" : \"T\", \"volatility\" : \"sigma\"}, inplace=True)\n",
    "NG_IV_df = NG_IV_df[[\"index\", \"t\", \"T\", \"K\", \"sigma\"]]\n",
    "NG_IV_df[\"index\"] = \"NYMEX Natural Gas\"\n",
    "NG_IV_df.head()"
   ]
  },
  {
   "cell_type": "code",
   "execution_count": null,
   "metadata": {},
   "outputs": [],
   "source": [
    "NG_IV_df[\"t\"], NG_IV_df[\"T\"] = pd.to_datetime(NG_IV_df[\"t\"]), pd.to_datetime(NG_IV_df[\"T\"])\n",
    "NG_IV_df.info()"
   ]
  },
  {
   "cell_type": "code",
   "execution_count": null,
   "metadata": {},
   "outputs": [],
   "source": [
    "for i in [\"t\", \"T\"]:\n",
    "    print(i + \"_min is \" + str(min(NG_IV_df[i]).date()) + \"\\t\" + i + \"_max is \" + str(max(NG_IV_df[i]).date())\n",
    "          + \"\\n\")\n",
    "del i"
   ]
  },
  {
   "cell_type": "code",
   "execution_count": null,
   "metadata": {},
   "outputs": [],
   "source": [
    "WTI_IV_20_df = pd.read_csv(orig_data_dir+\"WTI_ImpliedVols2020.csv\")\n",
    "WTI_IV_20_df.head()"
   ]
  },
  {
   "cell_type": "code",
   "execution_count": null,
   "metadata": {},
   "outputs": [],
   "source": [
    "WTI_IV_20_df.info()"
   ]
  },
  {
   "cell_type": "code",
   "execution_count": null,
   "metadata": {},
   "outputs": [],
   "source": [
    "WTI_IV_21_df = pd.read_csv(orig_data_dir+\"WTI_ImpliedVols2021.csv\")\n",
    "WTI_IV_21_df.head()"
   ]
  },
  {
   "cell_type": "code",
   "execution_count": null,
   "metadata": {},
   "outputs": [],
   "source": [
    "WTI_IV_21_df.info()"
   ]
  },
  {
   "cell_type": "code",
   "execution_count": null,
   "metadata": {},
   "outputs": [],
   "source": [
    "WTI_IV_22_df = pd.read_csv(orig_data_dir+\"WTI_ImpliedVols2022.csv\")\n",
    "WTI_IV_22_df.head()"
   ]
  },
  {
   "cell_type": "code",
   "execution_count": null,
   "metadata": {},
   "outputs": [],
   "source": [
    "WTI_IV_22_df.info()"
   ]
  },
  {
   "cell_type": "code",
   "execution_count": null,
   "metadata": {},
   "outputs": [],
   "source": [
    "frames = [WTI_IV_20_df, WTI_IV_21_df, WTI_IV_22_df]\n",
    "WTI_IV_df = pd.concat(frames)\n",
    "\n",
    "del frames"
   ]
  },
  {
   "cell_type": "code",
   "execution_count": null,
   "metadata": {},
   "outputs": [],
   "source": [
    "WTI_IV_df.rename(columns={\"volatilityindex\" : \"index\", \"volatilitydate\" : \"t\", \"strikeprice\" : \"K\",\n",
    "                         \"begtime\" : \"T\", \"volatility\" : \"sigma\"}, inplace=True)\n",
    "WTI_IV_df = WTI_IV_df[[\"index\", \"t\", \"T\", \"K\", \"sigma\"]]\n",
    "WTI_IV_df[\"index\"] = \"WTI NYMEX LIGHT SWEET\"\n",
    "WTI_IV_df.head()"
   ]
  },
  {
   "cell_type": "code",
   "execution_count": null,
   "metadata": {},
   "outputs": [],
   "source": [
    "WTI_IV_df[\"t\"], WTI_IV_df[\"T\"] = pd.to_datetime(WTI_IV_df[\"t\"]), pd.to_datetime(WTI_IV_df[\"T\"])\n",
    "WTI_IV_df.info()"
   ]
  },
  {
   "cell_type": "code",
   "execution_count": null,
   "metadata": {},
   "outputs": [],
   "source": [
    "for i in [\"t\", \"T\"]:\n",
    "    print(i + \"_min is \" + str(min(WTI_IV_df[i]).date()) + \"\\t\" + i + \"_max is \" + str(max(WTI_IV_df[i]).date())\n",
    "          + \"\\n\")\n",
    "del i"
   ]
  },
  {
   "cell_type": "code",
   "execution_count": null,
   "metadata": {},
   "outputs": [],
   "source": [
    "IR_df = pd.read_csv(orig_data_dir+\"InterestRates.csv\")\n",
    "IR_df.head()"
   ]
  },
  {
   "cell_type": "code",
   "execution_count": null,
   "metadata": {},
   "outputs": [],
   "source": [
    "IR_df.pricedate = pd.to_datetime(IR_df.pricedate)\n",
    "IR_df.info()"
   ]
  },
  {
   "cell_type": "code",
   "execution_count": null,
   "metadata": {},
   "outputs": [],
   "source": [
    "t = IR_df.pricedate.to_list()\n",
    "ttm = [to_offset(i) for i in IR_df.maturity]\n",
    "T = [t[i] + ttm[i] + to_offset(\"1D\") for i in range(len(ttm))]\n",
    "IR_df.maturity = T"
   ]
  },
  {
   "cell_type": "code",
   "execution_count": null,
   "metadata": {},
   "outputs": [],
   "source": [
    "IR_df.head()"
   ]
  },
  {
   "cell_type": "code",
   "execution_count": null,
   "metadata": {},
   "outputs": [],
   "source": [
    "IR_df.rename(columns={\"pricedate\" : \"t\", \"maturity\" : \"T\", \"bidrate\": \"r\"}, inplace=True)\n",
    "IR_df.head()"
   ]
  },
  {
   "cell_type": "code",
   "execution_count": null,
   "metadata": {},
   "outputs": [],
   "source": [
    "for i in [\"t\", \"T\"]:\n",
    "    print(i + \"_min is \" + str(min(IR_df[i]).date()) + \"\\t\" + i + \"_max is \" + str(max(IR_df[i]).date())\n",
    "          + \"\\n\")\n",
    "del i"
   ]
  },
  {
   "cell_type": "code",
   "execution_count": null,
   "metadata": {},
   "outputs": [],
   "source": [
    "NG_IV_df.set_index([\"t\", \"T\"], inplace=True)\n",
    "WTI_IV_df.set_index([\"t\", \"T\"], inplace=True)\n",
    "IR_df.set_index([\"t\", \"T\"], inplace=True)"
   ]
  },
  {
   "cell_type": "code",
   "execution_count": null,
   "metadata": {},
   "outputs": [],
   "source": [
    "NG_option_df = NG_IV_df.merge(IR_df, how=\"inner\", left_index=True, right_index=True)\n",
    "NG_option_df.reset_index()\n",
    "NG_option_df.info()"
   ]
  },
  {
   "cell_type": "code",
   "execution_count": null,
   "metadata": {},
   "outputs": [],
   "source": [
    "NG_option_df.to_csv(r\"./data/wrangled_data/NG_option.csv\")"
   ]
  },
  {
   "cell_type": "code",
   "execution_count": null,
   "metadata": {},
   "outputs": [],
   "source": [
    "WTI_option_df = WTI_IV_df.merge(IR_df, how=\"inner\", left_index=True, right_index=True)\n",
    "WTI_option_df.reset_index()\n",
    "WTI_option_df.info()"
   ]
  },
  {
   "cell_type": "code",
   "execution_count": null,
   "metadata": {},
   "outputs": [],
   "source": [
    "NG_option_df.to_csv(r\"./data/wrangled_data/WTI_option.csv\")"
   ]
  },
  {
   "cell_type": "code",
   "execution_count": null,
   "metadata": {},
   "outputs": [],
   "source": [
    "os.list_dir"
   ]
  }
 ],
 "metadata": {
  "kernelspec": {
   "display_name": "Python 3",
   "language": "python",
   "name": "python3"
  },
  "language_info": {
   "codemirror_mode": {
    "name": "ipython",
    "version": 3
   },
   "file_extension": ".py",
   "mimetype": "text/x-python",
   "name": "python",
   "nbconvert_exporter": "python",
   "pygments_lexer": "ipython3",
   "version": "3.6.9"
  }
 },
 "nbformat": 4,
 "nbformat_minor": 4
}
