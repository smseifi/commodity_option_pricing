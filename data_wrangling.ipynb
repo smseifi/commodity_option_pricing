{
 "cells": [
  {
   "cell_type": "code",
   "execution_count": 1,
   "metadata": {},
   "outputs": [],
   "source": [
    "import os\n",
    "\n",
    "import numpy as np\n",
    "import pandas as pd \n",
    "import matplotlib.pyplot as plt\n",
    "\n",
    "from pandas.tseries.frequencies import to_offset"
   ]
  },
  {
   "cell_type": "code",
   "execution_count": 2,
   "metadata": {},
   "outputs": [
    {
     "name": "stdout",
     "output_type": "stream",
     "text": [
      "wrangled_data\n",
      "orig_data\n"
     ]
    }
   ],
   "source": [
    "print(*os.listdir(\"./data\"), sep=\"\\n\")"
   ]
  },
  {
   "cell_type": "code",
   "execution_count": 3,
   "metadata": {},
   "outputs": [
    {
     "name": "stdout",
     "output_type": "stream",
     "text": [
      "PricesFile1.csv\n",
      "NG_ImpliedVols2020.csv\n",
      "NG_ImpliedVols2022.csv\n",
      "NG_ImpliedVols2021.csv\n",
      "WTI_ImpliedVols2022.csv\n",
      "WTI_ImpliedVols2020.csv\n",
      "WTI_ImpliedVols2021.csv\n",
      "InterestRates.csv\n"
     ]
    }
   ],
   "source": [
    "orig_data_dir = \"./data/orig_data/\"\n",
    "print(*os.listdir(orig_data_dir), sep=\"\\n\")"
   ]
  },
  {
   "cell_type": "code",
   "execution_count": 4,
   "metadata": {},
   "outputs": [
    {
     "name": "stdout",
     "output_type": "stream",
     "text": [
      "<class 'pandas.core.frame.DataFrame'>\n",
      "RangeIndex: 6130 entries, 0 to 6129\n",
      "Data columns (total 4 columns):\n",
      " #   Column      Non-Null Count  Dtype  \n",
      "---  ------      --------------  -----  \n",
      " 0   priceindex  6130 non-null   object \n",
      " 1   pricedate   6130 non-null   object \n",
      " 2   delivdate   6130 non-null   object \n",
      " 3   price       6130 non-null   float64\n",
      "dtypes: float64(1), object(3)\n",
      "memory usage: 191.7+ KB\n"
     ]
    }
   ],
   "source": [
    "prices_df = pd.read_csv(orig_data_dir+\"PricesFile1.csv\")\n",
    "prices_df.info()"
   ]
  },
  {
   "cell_type": "code",
   "execution_count": 5,
   "metadata": {},
   "outputs": [
    {
     "data": {
      "text/html": [
       "<div>\n",
       "<style scoped>\n",
       "    .dataframe tbody tr th:only-of-type {\n",
       "        vertical-align: middle;\n",
       "    }\n",
       "\n",
       "    .dataframe tbody tr th {\n",
       "        vertical-align: top;\n",
       "    }\n",
       "\n",
       "    .dataframe thead th {\n",
       "        text-align: right;\n",
       "    }\n",
       "</style>\n",
       "<table border=\"1\" class=\"dataframe\">\n",
       "  <thead>\n",
       "    <tr style=\"text-align: right;\">\n",
       "      <th></th>\n",
       "      <th>priceindex</th>\n",
       "      <th>pricedate</th>\n",
       "      <th>delivdate</th>\n",
       "      <th>price</th>\n",
       "    </tr>\n",
       "  </thead>\n",
       "  <tbody>\n",
       "    <tr>\n",
       "      <th>0</th>\n",
       "      <td>AECO NIT MONTHLY (7A) US$</td>\n",
       "      <td>2020-03-01</td>\n",
       "      <td>2020-03-01</td>\n",
       "      <td>1.3219</td>\n",
       "    </tr>\n",
       "    <tr>\n",
       "      <th>1</th>\n",
       "      <td>AECO NIT MONTHLY (7A) US$</td>\n",
       "      <td>2020-04-01</td>\n",
       "      <td>2020-04-01</td>\n",
       "      <td>1.2421</td>\n",
       "    </tr>\n",
       "    <tr>\n",
       "      <th>2</th>\n",
       "      <td>AECO NIT MONTHLY (7A) US$</td>\n",
       "      <td>2020-05-01</td>\n",
       "      <td>2020-05-01</td>\n",
       "      <td>1.3385</td>\n",
       "    </tr>\n",
       "    <tr>\n",
       "      <th>3</th>\n",
       "      <td>AECO NIT MONTHLY (7A) US$ FWD</td>\n",
       "      <td>2020-03-02</td>\n",
       "      <td>2020-04-01</td>\n",
       "      <td>-0.5140</td>\n",
       "    </tr>\n",
       "    <tr>\n",
       "      <th>4</th>\n",
       "      <td>AECO NIT MONTHLY (7A) US$ FWD</td>\n",
       "      <td>2020-03-02</td>\n",
       "      <td>2020-05-01</td>\n",
       "      <td>-0.6160</td>\n",
       "    </tr>\n",
       "  </tbody>\n",
       "</table>\n",
       "</div>"
      ],
      "text/plain": [
       "                      priceindex   pricedate   delivdate   price\n",
       "0      AECO NIT MONTHLY (7A) US$  2020-03-01  2020-03-01  1.3219\n",
       "1      AECO NIT MONTHLY (7A) US$  2020-04-01  2020-04-01  1.2421\n",
       "2      AECO NIT MONTHLY (7A) US$  2020-05-01  2020-05-01  1.3385\n",
       "3  AECO NIT MONTHLY (7A) US$ FWD  2020-03-02  2020-04-01 -0.5140\n",
       "4  AECO NIT MONTHLY (7A) US$ FWD  2020-03-02  2020-05-01 -0.6160"
      ]
     },
     "execution_count": 5,
     "metadata": {},
     "output_type": "execute_result"
    }
   ],
   "source": [
    "prices_df.head()"
   ]
  },
  {
   "cell_type": "code",
   "execution_count": 6,
   "metadata": {},
   "outputs": [
    {
     "name": "stdout",
     "output_type": "stream",
     "text": [
      "<class 'pandas.core.frame.DataFrame'>\n",
      "RangeIndex: 6130 entries, 0 to 6129\n",
      "Data columns (total 4 columns):\n",
      " #   Column      Non-Null Count  Dtype         \n",
      "---  ------      --------------  -----         \n",
      " 0   priceindex  6130 non-null   object        \n",
      " 1   pricedate   6130 non-null   datetime64[ns]\n",
      " 2   delivdate   6130 non-null   datetime64[ns]\n",
      " 3   price       6130 non-null   float64       \n",
      "dtypes: datetime64[ns](2), float64(1), object(1)\n",
      "memory usage: 191.7+ KB\n"
     ]
    }
   ],
   "source": [
    "prices_df.pricedate, prices_df.delivdate = pd.to_datetime(prices_df.pricedate), pd.to_datetime(prices_df.delivdate)\n",
    "prices_df.info()"
   ]
  },
  {
   "cell_type": "code",
   "execution_count": 7,
   "metadata": {},
   "outputs": [
    {
     "data": {
      "text/html": [
       "<div>\n",
       "<style scoped>\n",
       "    .dataframe tbody tr th:only-of-type {\n",
       "        vertical-align: middle;\n",
       "    }\n",
       "\n",
       "    .dataframe tbody tr th {\n",
       "        vertical-align: top;\n",
       "    }\n",
       "\n",
       "    .dataframe thead th {\n",
       "        text-align: right;\n",
       "    }\n",
       "</style>\n",
       "<table border=\"1\" class=\"dataframe\">\n",
       "  <thead>\n",
       "    <tr style=\"text-align: right;\">\n",
       "      <th></th>\n",
       "      <th>index</th>\n",
       "      <th>t</th>\n",
       "      <th>T</th>\n",
       "      <th>F</th>\n",
       "    </tr>\n",
       "  </thead>\n",
       "  <tbody>\n",
       "    <tr>\n",
       "      <th>0</th>\n",
       "      <td>AECO NIT MONTHLY (7A) US$</td>\n",
       "      <td>2020-03-01</td>\n",
       "      <td>2020-03-01</td>\n",
       "      <td>1.3219</td>\n",
       "    </tr>\n",
       "    <tr>\n",
       "      <th>1</th>\n",
       "      <td>AECO NIT MONTHLY (7A) US$</td>\n",
       "      <td>2020-04-01</td>\n",
       "      <td>2020-04-01</td>\n",
       "      <td>1.2421</td>\n",
       "    </tr>\n",
       "    <tr>\n",
       "      <th>2</th>\n",
       "      <td>AECO NIT MONTHLY (7A) US$</td>\n",
       "      <td>2020-05-01</td>\n",
       "      <td>2020-05-01</td>\n",
       "      <td>1.3385</td>\n",
       "    </tr>\n",
       "    <tr>\n",
       "      <th>3</th>\n",
       "      <td>AECO NIT MONTHLY (7A) US$ FWD</td>\n",
       "      <td>2020-03-02</td>\n",
       "      <td>2020-04-01</td>\n",
       "      <td>-0.5140</td>\n",
       "    </tr>\n",
       "    <tr>\n",
       "      <th>4</th>\n",
       "      <td>AECO NIT MONTHLY (7A) US$ FWD</td>\n",
       "      <td>2020-03-02</td>\n",
       "      <td>2020-05-01</td>\n",
       "      <td>-0.6160</td>\n",
       "    </tr>\n",
       "  </tbody>\n",
       "</table>\n",
       "</div>"
      ],
      "text/plain": [
       "                           index          t          T       F\n",
       "0      AECO NIT MONTHLY (7A) US$ 2020-03-01 2020-03-01  1.3219\n",
       "1      AECO NIT MONTHLY (7A) US$ 2020-04-01 2020-04-01  1.2421\n",
       "2      AECO NIT MONTHLY (7A) US$ 2020-05-01 2020-05-01  1.3385\n",
       "3  AECO NIT MONTHLY (7A) US$ FWD 2020-03-02 2020-04-01 -0.5140\n",
       "4  AECO NIT MONTHLY (7A) US$ FWD 2020-03-02 2020-05-01 -0.6160"
      ]
     },
     "execution_count": 7,
     "metadata": {},
     "output_type": "execute_result"
    }
   ],
   "source": [
    "prices_df.rename(columns={\"priceindex\" : \"index\", \"pricedate\" : \"t\", \"delivdate\" : \"T\", \"price\" : \"F\"}, \n",
    "                 inplace=True)\n",
    "prices_df.head()"
   ]
  },
  {
   "cell_type": "code",
   "execution_count": 8,
   "metadata": {},
   "outputs": [
    {
     "name": "stdout",
     "output_type": "stream",
     "text": [
      "AECO NIT MONTHLY (7A) US$\n",
      "AECO NIT MONTHLY (7A) US$ FWD\n",
      "NYMEX Natural Gas\n",
      "WTI NYMEX LIGHT SWEET\n"
     ]
    }
   ],
   "source": [
    "p_i = prices_df[\"index\"].unique()\n",
    "print(*p_i, sep=\"\\n\")"
   ]
  },
  {
   "cell_type": "code",
   "execution_count": 9,
   "metadata": {},
   "outputs": [
    {
     "data": {
      "text/plain": [
       "WTI NYMEX LIGHT SWEET            2060\n",
       "AECO NIT MONTHLY (7A) US$ FWD    2049\n",
       "NYMEX Natural Gas                2018\n",
       "AECO NIT MONTHLY (7A) US$           3\n",
       "Name: index, dtype: int64"
      ]
     },
     "execution_count": 9,
     "metadata": {},
     "output_type": "execute_result"
    }
   ],
   "source": [
    "prices_df[\"index\"].value_counts()"
   ]
  },
  {
   "cell_type": "code",
   "execution_count": 10,
   "metadata": {},
   "outputs": [],
   "source": [
    "grouped_by_p_i = prices_df.groupby(\"index\")"
   ]
  },
  {
   "cell_type": "code",
   "execution_count": 11,
   "metadata": {},
   "outputs": [
    {
     "name": "stdout",
     "output_type": "stream",
     "text": [
      "index : AECO NIT MONTHLY (7A) US$\n",
      "t_min is 2020-03-01\tt_max is 2020-05-01\n",
      "T_min is 2020-03-01\tT_max is 2020-05-01\n",
      "\n",
      "index : AECO NIT MONTHLY (7A) US$ FWD\n",
      "t_min is 2020-03-02\tt_max is 2020-05-29\n",
      "T_min is 2020-04-01\tT_max is 2022-12-01\n",
      "\n",
      "index : NYMEX Natural Gas\n",
      "t_min is 2020-03-02\tt_max is 2020-05-29\n",
      "T_min is 2020-04-01\tT_max is 2022-12-01\n",
      "\n",
      "index : WTI NYMEX LIGHT SWEET\n",
      "t_min is 2020-03-02\tt_max is 2020-05-29\n",
      "T_min is 2020-03-01\tT_max is 2022-12-01\n",
      "\n"
     ]
    }
   ],
   "source": [
    "for i in range(len(p_i)):\n",
    "    \n",
    "    df = grouped_by_p_i.get_group(p_i[i])\n",
    "    print(\"index : \" + p_i[i])\n",
    "    print(\"t_min is \" + str(min(df.t).date()) + \"\\t\" + \"t_max is \" + str(max(df.t).date()))\n",
    "    print(\"T_min is \" + str(min(df[\"T\"]).date()) + \"\\t\" + \"T_max is \" + str(max(df[\"T\"]).date()) + \"\\n\")\n",
    "    \n",
    "    del df\n",
    "del i"
   ]
  },
  {
   "cell_type": "code",
   "execution_count": 12,
   "metadata": {},
   "outputs": [
    {
     "data": {
      "text/html": [
       "<div>\n",
       "<style scoped>\n",
       "    .dataframe tbody tr th:only-of-type {\n",
       "        vertical-align: middle;\n",
       "    }\n",
       "\n",
       "    .dataframe tbody tr th {\n",
       "        vertical-align: top;\n",
       "    }\n",
       "\n",
       "    .dataframe thead th {\n",
       "        text-align: right;\n",
       "    }\n",
       "</style>\n",
       "<table border=\"1\" class=\"dataframe\">\n",
       "  <thead>\n",
       "    <tr style=\"text-align: right;\">\n",
       "      <th></th>\n",
       "      <th>index</th>\n",
       "      <th>t</th>\n",
       "      <th>T</th>\n",
       "      <th>F</th>\n",
       "    </tr>\n",
       "  </thead>\n",
       "  <tbody>\n",
       "    <tr>\n",
       "      <th>4070</th>\n",
       "      <td>WTI NYMEX LIGHT SWEET</td>\n",
       "      <td>2020-03-02</td>\n",
       "      <td>2020-03-01</td>\n",
       "      <td>53.779</td>\n",
       "    </tr>\n",
       "    <tr>\n",
       "      <th>4104</th>\n",
       "      <td>WTI NYMEX LIGHT SWEET</td>\n",
       "      <td>2020-03-03</td>\n",
       "      <td>2020-03-01</td>\n",
       "      <td>53.779</td>\n",
       "    </tr>\n",
       "    <tr>\n",
       "      <th>4138</th>\n",
       "      <td>WTI NYMEX LIGHT SWEET</td>\n",
       "      <td>2020-03-04</td>\n",
       "      <td>2020-03-01</td>\n",
       "      <td>53.779</td>\n",
       "    </tr>\n",
       "    <tr>\n",
       "      <th>4172</th>\n",
       "      <td>WTI NYMEX LIGHT SWEET</td>\n",
       "      <td>2020-03-05</td>\n",
       "      <td>2020-03-01</td>\n",
       "      <td>53.779</td>\n",
       "    </tr>\n",
       "    <tr>\n",
       "      <th>4206</th>\n",
       "      <td>WTI NYMEX LIGHT SWEET</td>\n",
       "      <td>2020-03-06</td>\n",
       "      <td>2020-03-01</td>\n",
       "      <td>53.779</td>\n",
       "    </tr>\n",
       "  </tbody>\n",
       "</table>\n",
       "</div>"
      ],
      "text/plain": [
       "                      index          t          T       F\n",
       "4070  WTI NYMEX LIGHT SWEET 2020-03-02 2020-03-01  53.779\n",
       "4104  WTI NYMEX LIGHT SWEET 2020-03-03 2020-03-01  53.779\n",
       "4138  WTI NYMEX LIGHT SWEET 2020-03-04 2020-03-01  53.779\n",
       "4172  WTI NYMEX LIGHT SWEET 2020-03-05 2020-03-01  53.779\n",
       "4206  WTI NYMEX LIGHT SWEET 2020-03-06 2020-03-01  53.779"
      ]
     },
     "execution_count": 12,
     "metadata": {},
     "output_type": "execute_result"
    }
   ],
   "source": [
    "df = prices_df[prices_df.t > prices_df[\"T\"]]\n",
    "df.head()"
   ]
  },
  {
   "cell_type": "code",
   "execution_count": 13,
   "metadata": {},
   "outputs": [
    {
     "data": {
      "text/plain": [
       "WTI NYMEX LIGHT SWEET    61\n",
       "Name: index, dtype: int64"
      ]
     },
     "execution_count": 13,
     "metadata": {},
     "output_type": "execute_result"
    }
   ],
   "source": [
    "df[\"index\"].value_counts()"
   ]
  },
  {
   "cell_type": "code",
   "execution_count": 14,
   "metadata": {},
   "outputs": [
    {
     "data": {
      "text/plain": [
       "index     1\n",
       "t        61\n",
       "T         3\n",
       "F         3\n",
       "dtype: int64"
      ]
     },
     "execution_count": 14,
     "metadata": {},
     "output_type": "execute_result"
    }
   ],
   "source": [
    "df.nunique()"
   ]
  },
  {
   "cell_type": "code",
   "execution_count": 15,
   "metadata": {},
   "outputs": [],
   "source": [
    "del df"
   ]
  },
  {
   "cell_type": "code",
   "execution_count": 16,
   "metadata": {},
   "outputs": [
    {
     "data": {
      "text/html": [
       "<div>\n",
       "<style scoped>\n",
       "    .dataframe tbody tr th:only-of-type {\n",
       "        vertical-align: middle;\n",
       "    }\n",
       "\n",
       "    .dataframe tbody tr th {\n",
       "        vertical-align: top;\n",
       "    }\n",
       "\n",
       "    .dataframe thead th {\n",
       "        text-align: right;\n",
       "    }\n",
       "</style>\n",
       "<table border=\"1\" class=\"dataframe\">\n",
       "  <thead>\n",
       "    <tr style=\"text-align: right;\">\n",
       "      <th></th>\n",
       "      <th>index</th>\n",
       "      <th>t</th>\n",
       "      <th>T</th>\n",
       "      <th>F</th>\n",
       "    </tr>\n",
       "  </thead>\n",
       "  <tbody>\n",
       "    <tr>\n",
       "      <th>3</th>\n",
       "      <td>AECO NIT MONTHLY (7A) US$ FWD</td>\n",
       "      <td>2020-03-02</td>\n",
       "      <td>2020-04-01</td>\n",
       "      <td>-0.514</td>\n",
       "    </tr>\n",
       "    <tr>\n",
       "      <th>4</th>\n",
       "      <td>AECO NIT MONTHLY (7A) US$ FWD</td>\n",
       "      <td>2020-03-02</td>\n",
       "      <td>2020-05-01</td>\n",
       "      <td>-0.616</td>\n",
       "    </tr>\n",
       "    <tr>\n",
       "      <th>5</th>\n",
       "      <td>AECO NIT MONTHLY (7A) US$ FWD</td>\n",
       "      <td>2020-03-02</td>\n",
       "      <td>2020-06-01</td>\n",
       "      <td>-0.701</td>\n",
       "    </tr>\n",
       "    <tr>\n",
       "      <th>6</th>\n",
       "      <td>AECO NIT MONTHLY (7A) US$ FWD</td>\n",
       "      <td>2020-03-02</td>\n",
       "      <td>2020-07-01</td>\n",
       "      <td>-0.706</td>\n",
       "    </tr>\n",
       "    <tr>\n",
       "      <th>7</th>\n",
       "      <td>AECO NIT MONTHLY (7A) US$ FWD</td>\n",
       "      <td>2020-03-02</td>\n",
       "      <td>2020-08-01</td>\n",
       "      <td>-0.754</td>\n",
       "    </tr>\n",
       "  </tbody>\n",
       "</table>\n",
       "</div>"
      ],
      "text/plain": [
       "                           index          t          T      F\n",
       "3  AECO NIT MONTHLY (7A) US$ FWD 2020-03-02 2020-04-01 -0.514\n",
       "4  AECO NIT MONTHLY (7A) US$ FWD 2020-03-02 2020-05-01 -0.616\n",
       "5  AECO NIT MONTHLY (7A) US$ FWD 2020-03-02 2020-06-01 -0.701\n",
       "6  AECO NIT MONTHLY (7A) US$ FWD 2020-03-02 2020-07-01 -0.706\n",
       "7  AECO NIT MONTHLY (7A) US$ FWD 2020-03-02 2020-08-01 -0.754"
      ]
     },
     "execution_count": 16,
     "metadata": {},
     "output_type": "execute_result"
    }
   ],
   "source": [
    "AECO_futures_df = grouped_by_p_i.get_group(p_i[1])\n",
    "AECO_futures_df.head()"
   ]
  },
  {
   "cell_type": "code",
   "execution_count": 17,
   "metadata": {},
   "outputs": [
    {
     "name": "stdout",
     "output_type": "stream",
     "text": [
      "<class 'pandas.core.frame.DataFrame'>\n",
      "Int64Index: 2049 entries, 3 to 2051\n",
      "Data columns (total 4 columns):\n",
      " #   Column  Non-Null Count  Dtype         \n",
      "---  ------  --------------  -----         \n",
      " 0   index   2049 non-null   object        \n",
      " 1   t       2049 non-null   datetime64[ns]\n",
      " 2   T       2049 non-null   datetime64[ns]\n",
      " 3   F       2049 non-null   float64       \n",
      "dtypes: datetime64[ns](2), float64(1), object(1)\n",
      "memory usage: 80.0+ KB\n"
     ]
    }
   ],
   "source": [
    "AECO_futures_df.info()"
   ]
  },
  {
   "cell_type": "code",
   "execution_count": 18,
   "metadata": {},
   "outputs": [],
   "source": [
    "AECO_futures_df.to_csv(r\"./data/wrangled_data/AECO_futures.csv\")"
   ]
  },
  {
   "cell_type": "code",
   "execution_count": 19,
   "metadata": {},
   "outputs": [
    {
     "data": {
      "text/html": [
       "<div>\n",
       "<style scoped>\n",
       "    .dataframe tbody tr th:only-of-type {\n",
       "        vertical-align: middle;\n",
       "    }\n",
       "\n",
       "    .dataframe tbody tr th {\n",
       "        vertical-align: top;\n",
       "    }\n",
       "\n",
       "    .dataframe thead th {\n",
       "        text-align: right;\n",
       "    }\n",
       "</style>\n",
       "<table border=\"1\" class=\"dataframe\">\n",
       "  <thead>\n",
       "    <tr style=\"text-align: right;\">\n",
       "      <th></th>\n",
       "      <th>index</th>\n",
       "      <th>t</th>\n",
       "      <th>T</th>\n",
       "      <th>F</th>\n",
       "    </tr>\n",
       "  </thead>\n",
       "  <tbody>\n",
       "    <tr>\n",
       "      <th>2052</th>\n",
       "      <td>NYMEX Natural Gas</td>\n",
       "      <td>2020-03-02</td>\n",
       "      <td>2020-04-01</td>\n",
       "      <td>1.755</td>\n",
       "    </tr>\n",
       "    <tr>\n",
       "      <th>2053</th>\n",
       "      <td>NYMEX Natural Gas</td>\n",
       "      <td>2020-03-02</td>\n",
       "      <td>2020-05-01</td>\n",
       "      <td>1.796</td>\n",
       "    </tr>\n",
       "    <tr>\n",
       "      <th>2054</th>\n",
       "      <td>NYMEX Natural Gas</td>\n",
       "      <td>2020-03-02</td>\n",
       "      <td>2020-06-01</td>\n",
       "      <td>1.857</td>\n",
       "    </tr>\n",
       "    <tr>\n",
       "      <th>2055</th>\n",
       "      <td>NYMEX Natural Gas</td>\n",
       "      <td>2020-03-02</td>\n",
       "      <td>2020-07-01</td>\n",
       "      <td>1.934</td>\n",
       "    </tr>\n",
       "    <tr>\n",
       "      <th>2056</th>\n",
       "      <td>NYMEX Natural Gas</td>\n",
       "      <td>2020-03-02</td>\n",
       "      <td>2020-08-01</td>\n",
       "      <td>1.968</td>\n",
       "    </tr>\n",
       "  </tbody>\n",
       "</table>\n",
       "</div>"
      ],
      "text/plain": [
       "                  index          t          T      F\n",
       "2052  NYMEX Natural Gas 2020-03-02 2020-04-01  1.755\n",
       "2053  NYMEX Natural Gas 2020-03-02 2020-05-01  1.796\n",
       "2054  NYMEX Natural Gas 2020-03-02 2020-06-01  1.857\n",
       "2055  NYMEX Natural Gas 2020-03-02 2020-07-01  1.934\n",
       "2056  NYMEX Natural Gas 2020-03-02 2020-08-01  1.968"
      ]
     },
     "execution_count": 19,
     "metadata": {},
     "output_type": "execute_result"
    }
   ],
   "source": [
    "NG_futures_df = grouped_by_p_i.get_group(p_i[2])\n",
    "NG_futures_df.head()"
   ]
  },
  {
   "cell_type": "code",
   "execution_count": 20,
   "metadata": {},
   "outputs": [
    {
     "name": "stdout",
     "output_type": "stream",
     "text": [
      "<class 'pandas.core.frame.DataFrame'>\n",
      "Int64Index: 2018 entries, 2052 to 4069\n",
      "Data columns (total 4 columns):\n",
      " #   Column  Non-Null Count  Dtype         \n",
      "---  ------  --------------  -----         \n",
      " 0   index   2018 non-null   object        \n",
      " 1   t       2018 non-null   datetime64[ns]\n",
      " 2   T       2018 non-null   datetime64[ns]\n",
      " 3   F       2018 non-null   float64       \n",
      "dtypes: datetime64[ns](2), float64(1), object(1)\n",
      "memory usage: 78.8+ KB\n"
     ]
    }
   ],
   "source": [
    "NG_futures_df.info()"
   ]
  },
  {
   "cell_type": "code",
   "execution_count": 21,
   "metadata": {},
   "outputs": [],
   "source": [
    "NG_futures_df.to_csv(r\"./data/wrangled_data/NG_futures.csv\")"
   ]
  },
  {
   "cell_type": "code",
   "execution_count": 22,
   "metadata": {},
   "outputs": [
    {
     "data": {
      "text/html": [
       "<div>\n",
       "<style scoped>\n",
       "    .dataframe tbody tr th:only-of-type {\n",
       "        vertical-align: middle;\n",
       "    }\n",
       "\n",
       "    .dataframe tbody tr th {\n",
       "        vertical-align: top;\n",
       "    }\n",
       "\n",
       "    .dataframe thead th {\n",
       "        text-align: right;\n",
       "    }\n",
       "</style>\n",
       "<table border=\"1\" class=\"dataframe\">\n",
       "  <thead>\n",
       "    <tr style=\"text-align: right;\">\n",
       "      <th></th>\n",
       "      <th>index</th>\n",
       "      <th>t</th>\n",
       "      <th>T</th>\n",
       "      <th>F</th>\n",
       "    </tr>\n",
       "  </thead>\n",
       "  <tbody>\n",
       "    <tr>\n",
       "      <th>4071</th>\n",
       "      <td>WTI NYMEX LIGHT SWEET</td>\n",
       "      <td>2020-03-02</td>\n",
       "      <td>2020-04-01</td>\n",
       "      <td>46.749</td>\n",
       "    </tr>\n",
       "    <tr>\n",
       "      <th>4072</th>\n",
       "      <td>WTI NYMEX LIGHT SWEET</td>\n",
       "      <td>2020-03-02</td>\n",
       "      <td>2020-05-01</td>\n",
       "      <td>46.919</td>\n",
       "    </tr>\n",
       "    <tr>\n",
       "      <th>4073</th>\n",
       "      <td>WTI NYMEX LIGHT SWEET</td>\n",
       "      <td>2020-03-02</td>\n",
       "      <td>2020-06-01</td>\n",
       "      <td>47.049</td>\n",
       "    </tr>\n",
       "    <tr>\n",
       "      <th>4074</th>\n",
       "      <td>WTI NYMEX LIGHT SWEET</td>\n",
       "      <td>2020-03-02</td>\n",
       "      <td>2020-07-01</td>\n",
       "      <td>47.139</td>\n",
       "    </tr>\n",
       "    <tr>\n",
       "      <th>4075</th>\n",
       "      <td>WTI NYMEX LIGHT SWEET</td>\n",
       "      <td>2020-03-02</td>\n",
       "      <td>2020-08-01</td>\n",
       "      <td>47.199</td>\n",
       "    </tr>\n",
       "  </tbody>\n",
       "</table>\n",
       "</div>"
      ],
      "text/plain": [
       "                      index          t          T       F\n",
       "4071  WTI NYMEX LIGHT SWEET 2020-03-02 2020-04-01  46.749\n",
       "4072  WTI NYMEX LIGHT SWEET 2020-03-02 2020-05-01  46.919\n",
       "4073  WTI NYMEX LIGHT SWEET 2020-03-02 2020-06-01  47.049\n",
       "4074  WTI NYMEX LIGHT SWEET 2020-03-02 2020-07-01  47.139\n",
       "4075  WTI NYMEX LIGHT SWEET 2020-03-02 2020-08-01  47.199"
      ]
     },
     "execution_count": 22,
     "metadata": {},
     "output_type": "execute_result"
    }
   ],
   "source": [
    "WTI_futures_df = grouped_by_p_i.get_group(p_i[3])\n",
    "WTI_futures_df = WTI_futures_df[WTI_futures_df.t < WTI_futures_df[\"T\"]]\n",
    "WTI_futures_df.head()"
   ]
  },
  {
   "cell_type": "code",
   "execution_count": 23,
   "metadata": {},
   "outputs": [
    {
     "name": "stdout",
     "output_type": "stream",
     "text": [
      "<class 'pandas.core.frame.DataFrame'>\n",
      "Int64Index: 1997 entries, 4071 to 6129\n",
      "Data columns (total 4 columns):\n",
      " #   Column  Non-Null Count  Dtype         \n",
      "---  ------  --------------  -----         \n",
      " 0   index   1997 non-null   object        \n",
      " 1   t       1997 non-null   datetime64[ns]\n",
      " 2   T       1997 non-null   datetime64[ns]\n",
      " 3   F       1997 non-null   float64       \n",
      "dtypes: datetime64[ns](2), float64(1), object(1)\n",
      "memory usage: 78.0+ KB\n"
     ]
    }
   ],
   "source": [
    "WTI_futures_df.info()"
   ]
  },
  {
   "cell_type": "code",
   "execution_count": 24,
   "metadata": {},
   "outputs": [],
   "source": [
    "WTI_futures_df.to_csv(r\"./data/wrangled_data/WTI_futures.csv\")"
   ]
  },
  {
   "cell_type": "code",
   "execution_count": 25,
   "metadata": {},
   "outputs": [
    {
     "data": {
      "text/html": [
       "<div>\n",
       "<style scoped>\n",
       "    .dataframe tbody tr th:only-of-type {\n",
       "        vertical-align: middle;\n",
       "    }\n",
       "\n",
       "    .dataframe tbody tr th {\n",
       "        vertical-align: top;\n",
       "    }\n",
       "\n",
       "    .dataframe thead th {\n",
       "        text-align: right;\n",
       "    }\n",
       "</style>\n",
       "<table border=\"1\" class=\"dataframe\">\n",
       "  <thead>\n",
       "    <tr style=\"text-align: right;\">\n",
       "      <th></th>\n",
       "      <th>volatilityindex</th>\n",
       "      <th>volatilitydate</th>\n",
       "      <th>strikeprice</th>\n",
       "      <th>begtime</th>\n",
       "      <th>volatility</th>\n",
       "    </tr>\n",
       "  </thead>\n",
       "  <tbody>\n",
       "    <tr>\n",
       "      <th>0</th>\n",
       "      <td>V_NYMEX Natural Gas</td>\n",
       "      <td>2020-03-09</td>\n",
       "      <td>2.65</td>\n",
       "      <td>2020-11-01</td>\n",
       "      <td>0.336</td>\n",
       "    </tr>\n",
       "    <tr>\n",
       "      <th>1</th>\n",
       "      <td>V_NYMEX Natural Gas</td>\n",
       "      <td>2020-03-09</td>\n",
       "      <td>2.70</td>\n",
       "      <td>2020-11-01</td>\n",
       "      <td>0.336</td>\n",
       "    </tr>\n",
       "    <tr>\n",
       "      <th>2</th>\n",
       "      <td>V_NYMEX Natural Gas</td>\n",
       "      <td>2020-03-09</td>\n",
       "      <td>2.75</td>\n",
       "      <td>2020-11-01</td>\n",
       "      <td>0.336</td>\n",
       "    </tr>\n",
       "    <tr>\n",
       "      <th>3</th>\n",
       "      <td>V_NYMEX Natural Gas</td>\n",
       "      <td>2020-03-09</td>\n",
       "      <td>2.80</td>\n",
       "      <td>2020-11-01</td>\n",
       "      <td>0.336</td>\n",
       "    </tr>\n",
       "    <tr>\n",
       "      <th>4</th>\n",
       "      <td>V_NYMEX Natural Gas</td>\n",
       "      <td>2020-03-09</td>\n",
       "      <td>2.85</td>\n",
       "      <td>2020-11-01</td>\n",
       "      <td>0.337</td>\n",
       "    </tr>\n",
       "  </tbody>\n",
       "</table>\n",
       "</div>"
      ],
      "text/plain": [
       "       volatilityindex volatilitydate  strikeprice     begtime  volatility\n",
       "0  V_NYMEX Natural Gas     2020-03-09         2.65  2020-11-01       0.336\n",
       "1  V_NYMEX Natural Gas     2020-03-09         2.70  2020-11-01       0.336\n",
       "2  V_NYMEX Natural Gas     2020-03-09         2.75  2020-11-01       0.336\n",
       "3  V_NYMEX Natural Gas     2020-03-09         2.80  2020-11-01       0.336\n",
       "4  V_NYMEX Natural Gas     2020-03-09         2.85  2020-11-01       0.337"
      ]
     },
     "execution_count": 25,
     "metadata": {},
     "output_type": "execute_result"
    }
   ],
   "source": [
    "NG_IV_20_df = pd.read_csv(orig_data_dir+\"NG_ImpliedVols2020.csv\")\n",
    "NG_IV_20_df.head()"
   ]
  },
  {
   "cell_type": "code",
   "execution_count": 26,
   "metadata": {},
   "outputs": [
    {
     "name": "stdout",
     "output_type": "stream",
     "text": [
      "<class 'pandas.core.frame.DataFrame'>\n",
      "RangeIndex: 33212 entries, 0 to 33211\n",
      "Data columns (total 5 columns):\n",
      " #   Column           Non-Null Count  Dtype  \n",
      "---  ------           --------------  -----  \n",
      " 0   volatilityindex  33212 non-null  object \n",
      " 1   volatilitydate   33212 non-null  object \n",
      " 2   strikeprice      33212 non-null  float64\n",
      " 3   begtime          33212 non-null  object \n",
      " 4   volatility       33212 non-null  float64\n",
      "dtypes: float64(2), object(3)\n",
      "memory usage: 1.3+ MB\n"
     ]
    }
   ],
   "source": [
    "NG_IV_20_df.info()"
   ]
  },
  {
   "cell_type": "code",
   "execution_count": 27,
   "metadata": {},
   "outputs": [
    {
     "data": {
      "text/html": [
       "<div>\n",
       "<style scoped>\n",
       "    .dataframe tbody tr th:only-of-type {\n",
       "        vertical-align: middle;\n",
       "    }\n",
       "\n",
       "    .dataframe tbody tr th {\n",
       "        vertical-align: top;\n",
       "    }\n",
       "\n",
       "    .dataframe thead th {\n",
       "        text-align: right;\n",
       "    }\n",
       "</style>\n",
       "<table border=\"1\" class=\"dataframe\">\n",
       "  <thead>\n",
       "    <tr style=\"text-align: right;\">\n",
       "      <th></th>\n",
       "      <th>volatilityindex</th>\n",
       "      <th>volatilitydate</th>\n",
       "      <th>strikeprice</th>\n",
       "      <th>begtime</th>\n",
       "      <th>volatility</th>\n",
       "    </tr>\n",
       "  </thead>\n",
       "  <tbody>\n",
       "    <tr>\n",
       "      <th>0</th>\n",
       "      <td>V_NYMEX Natural Gas</td>\n",
       "      <td>2020-03-10</td>\n",
       "      <td>1.90</td>\n",
       "      <td>2021-11-01</td>\n",
       "      <td>0.205</td>\n",
       "    </tr>\n",
       "    <tr>\n",
       "      <th>1</th>\n",
       "      <td>V_NYMEX Natural Gas</td>\n",
       "      <td>2020-03-10</td>\n",
       "      <td>1.95</td>\n",
       "      <td>2021-11-01</td>\n",
       "      <td>0.204</td>\n",
       "    </tr>\n",
       "    <tr>\n",
       "      <th>2</th>\n",
       "      <td>V_NYMEX Natural Gas</td>\n",
       "      <td>2020-03-10</td>\n",
       "      <td>2.00</td>\n",
       "      <td>2021-11-01</td>\n",
       "      <td>0.203</td>\n",
       "    </tr>\n",
       "    <tr>\n",
       "      <th>3</th>\n",
       "      <td>V_NYMEX Natural Gas</td>\n",
       "      <td>2020-03-10</td>\n",
       "      <td>2.05</td>\n",
       "      <td>2021-11-01</td>\n",
       "      <td>0.201</td>\n",
       "    </tr>\n",
       "    <tr>\n",
       "      <th>4</th>\n",
       "      <td>V_NYMEX Natural Gas</td>\n",
       "      <td>2020-03-10</td>\n",
       "      <td>2.10</td>\n",
       "      <td>2021-11-01</td>\n",
       "      <td>0.200</td>\n",
       "    </tr>\n",
       "  </tbody>\n",
       "</table>\n",
       "</div>"
      ],
      "text/plain": [
       "       volatilityindex volatilitydate  strikeprice     begtime  volatility\n",
       "0  V_NYMEX Natural Gas     2020-03-10         1.90  2021-11-01       0.205\n",
       "1  V_NYMEX Natural Gas     2020-03-10         1.95  2021-11-01       0.204\n",
       "2  V_NYMEX Natural Gas     2020-03-10         2.00  2021-11-01       0.203\n",
       "3  V_NYMEX Natural Gas     2020-03-10         2.05  2021-11-01       0.201\n",
       "4  V_NYMEX Natural Gas     2020-03-10         2.10  2021-11-01       0.200"
      ]
     },
     "execution_count": 27,
     "metadata": {},
     "output_type": "execute_result"
    }
   ],
   "source": [
    "NG_IV_21_df = pd.read_csv(orig_data_dir+\"NG_ImpliedVols2021.csv\")\n",
    "NG_IV_21_df.head()"
   ]
  },
  {
   "cell_type": "code",
   "execution_count": 28,
   "metadata": {},
   "outputs": [
    {
     "name": "stdout",
     "output_type": "stream",
     "text": [
      "<class 'pandas.core.frame.DataFrame'>\n",
      "RangeIndex: 59166 entries, 0 to 59165\n",
      "Data columns (total 5 columns):\n",
      " #   Column           Non-Null Count  Dtype  \n",
      "---  ------           --------------  -----  \n",
      " 0   volatilityindex  59166 non-null  object \n",
      " 1   volatilitydate   59166 non-null  object \n",
      " 2   strikeprice      59166 non-null  float64\n",
      " 3   begtime          59166 non-null  object \n",
      " 4   volatility       59166 non-null  float64\n",
      "dtypes: float64(2), object(3)\n",
      "memory usage: 2.3+ MB\n"
     ]
    }
   ],
   "source": [
    "NG_IV_21_df.info()"
   ]
  },
  {
   "cell_type": "code",
   "execution_count": 29,
   "metadata": {},
   "outputs": [
    {
     "data": {
      "text/html": [
       "<div>\n",
       "<style scoped>\n",
       "    .dataframe tbody tr th:only-of-type {\n",
       "        vertical-align: middle;\n",
       "    }\n",
       "\n",
       "    .dataframe tbody tr th {\n",
       "        vertical-align: top;\n",
       "    }\n",
       "\n",
       "    .dataframe thead th {\n",
       "        text-align: right;\n",
       "    }\n",
       "</style>\n",
       "<table border=\"1\" class=\"dataframe\">\n",
       "  <thead>\n",
       "    <tr style=\"text-align: right;\">\n",
       "      <th></th>\n",
       "      <th>volatilityindex</th>\n",
       "      <th>volatilitydate</th>\n",
       "      <th>strikeprice</th>\n",
       "      <th>begtime</th>\n",
       "      <th>volatility</th>\n",
       "    </tr>\n",
       "  </thead>\n",
       "  <tbody>\n",
       "    <tr>\n",
       "      <th>0</th>\n",
       "      <td>V_NYMEX Natural Gas</td>\n",
       "      <td>2020-03-10</td>\n",
       "      <td>1.13</td>\n",
       "      <td>2022-01-01</td>\n",
       "      <td>0.175</td>\n",
       "    </tr>\n",
       "    <tr>\n",
       "      <th>1</th>\n",
       "      <td>V_NYMEX Natural Gas</td>\n",
       "      <td>2020-03-10</td>\n",
       "      <td>1.18</td>\n",
       "      <td>2022-01-01</td>\n",
       "      <td>0.179</td>\n",
       "    </tr>\n",
       "    <tr>\n",
       "      <th>2</th>\n",
       "      <td>V_NYMEX Natural Gas</td>\n",
       "      <td>2020-03-10</td>\n",
       "      <td>1.23</td>\n",
       "      <td>2022-01-01</td>\n",
       "      <td>0.182</td>\n",
       "    </tr>\n",
       "    <tr>\n",
       "      <th>3</th>\n",
       "      <td>V_NYMEX Natural Gas</td>\n",
       "      <td>2020-03-10</td>\n",
       "      <td>1.28</td>\n",
       "      <td>2022-01-01</td>\n",
       "      <td>0.185</td>\n",
       "    </tr>\n",
       "    <tr>\n",
       "      <th>4</th>\n",
       "      <td>V_NYMEX Natural Gas</td>\n",
       "      <td>2020-03-10</td>\n",
       "      <td>1.33</td>\n",
       "      <td>2022-01-01</td>\n",
       "      <td>0.188</td>\n",
       "    </tr>\n",
       "  </tbody>\n",
       "</table>\n",
       "</div>"
      ],
      "text/plain": [
       "       volatilityindex volatilitydate  strikeprice     begtime  volatility\n",
       "0  V_NYMEX Natural Gas     2020-03-10         1.13  2022-01-01       0.175\n",
       "1  V_NYMEX Natural Gas     2020-03-10         1.18  2022-01-01       0.179\n",
       "2  V_NYMEX Natural Gas     2020-03-10         1.23  2022-01-01       0.182\n",
       "3  V_NYMEX Natural Gas     2020-03-10         1.28  2022-01-01       0.185\n",
       "4  V_NYMEX Natural Gas     2020-03-10         1.33  2022-01-01       0.188"
      ]
     },
     "execution_count": 29,
     "metadata": {},
     "output_type": "execute_result"
    }
   ],
   "source": [
    "NG_IV_22_df = pd.read_csv(orig_data_dir+\"NG_ImpliedVols2022.csv\")\n",
    "NG_IV_22_df.head()"
   ]
  },
  {
   "cell_type": "code",
   "execution_count": 30,
   "metadata": {},
   "outputs": [
    {
     "name": "stdout",
     "output_type": "stream",
     "text": [
      "<class 'pandas.core.frame.DataFrame'>\n",
      "RangeIndex: 60480 entries, 0 to 60479\n",
      "Data columns (total 5 columns):\n",
      " #   Column           Non-Null Count  Dtype  \n",
      "---  ------           --------------  -----  \n",
      " 0   volatilityindex  60480 non-null  object \n",
      " 1   volatilitydate   60480 non-null  object \n",
      " 2   strikeprice      60480 non-null  float64\n",
      " 3   begtime          60480 non-null  object \n",
      " 4   volatility       60480 non-null  float64\n",
      "dtypes: float64(2), object(3)\n",
      "memory usage: 2.3+ MB\n"
     ]
    }
   ],
   "source": [
    "NG_IV_22_df.info()"
   ]
  },
  {
   "cell_type": "code",
   "execution_count": 31,
   "metadata": {},
   "outputs": [],
   "source": [
    "frames = [NG_IV_20_df, NG_IV_21_df, NG_IV_22_df]\n",
    "NG_IV_df = pd.concat(frames)\n",
    "\n",
    "del frames"
   ]
  },
  {
   "cell_type": "code",
   "execution_count": 32,
   "metadata": {},
   "outputs": [
    {
     "data": {
      "text/html": [
       "<div>\n",
       "<style scoped>\n",
       "    .dataframe tbody tr th:only-of-type {\n",
       "        vertical-align: middle;\n",
       "    }\n",
       "\n",
       "    .dataframe tbody tr th {\n",
       "        vertical-align: top;\n",
       "    }\n",
       "\n",
       "    .dataframe thead th {\n",
       "        text-align: right;\n",
       "    }\n",
       "</style>\n",
       "<table border=\"1\" class=\"dataframe\">\n",
       "  <thead>\n",
       "    <tr style=\"text-align: right;\">\n",
       "      <th></th>\n",
       "      <th>index</th>\n",
       "      <th>t</th>\n",
       "      <th>T</th>\n",
       "      <th>K</th>\n",
       "      <th>sigma</th>\n",
       "    </tr>\n",
       "  </thead>\n",
       "  <tbody>\n",
       "    <tr>\n",
       "      <th>0</th>\n",
       "      <td>NYMEX Natural Gas</td>\n",
       "      <td>2020-03-09</td>\n",
       "      <td>2020-11-01</td>\n",
       "      <td>2.65</td>\n",
       "      <td>0.336</td>\n",
       "    </tr>\n",
       "    <tr>\n",
       "      <th>1</th>\n",
       "      <td>NYMEX Natural Gas</td>\n",
       "      <td>2020-03-09</td>\n",
       "      <td>2020-11-01</td>\n",
       "      <td>2.70</td>\n",
       "      <td>0.336</td>\n",
       "    </tr>\n",
       "    <tr>\n",
       "      <th>2</th>\n",
       "      <td>NYMEX Natural Gas</td>\n",
       "      <td>2020-03-09</td>\n",
       "      <td>2020-11-01</td>\n",
       "      <td>2.75</td>\n",
       "      <td>0.336</td>\n",
       "    </tr>\n",
       "    <tr>\n",
       "      <th>3</th>\n",
       "      <td>NYMEX Natural Gas</td>\n",
       "      <td>2020-03-09</td>\n",
       "      <td>2020-11-01</td>\n",
       "      <td>2.80</td>\n",
       "      <td>0.336</td>\n",
       "    </tr>\n",
       "    <tr>\n",
       "      <th>4</th>\n",
       "      <td>NYMEX Natural Gas</td>\n",
       "      <td>2020-03-09</td>\n",
       "      <td>2020-11-01</td>\n",
       "      <td>2.85</td>\n",
       "      <td>0.337</td>\n",
       "    </tr>\n",
       "  </tbody>\n",
       "</table>\n",
       "</div>"
      ],
      "text/plain": [
       "               index           t           T     K  sigma\n",
       "0  NYMEX Natural Gas  2020-03-09  2020-11-01  2.65  0.336\n",
       "1  NYMEX Natural Gas  2020-03-09  2020-11-01  2.70  0.336\n",
       "2  NYMEX Natural Gas  2020-03-09  2020-11-01  2.75  0.336\n",
       "3  NYMEX Natural Gas  2020-03-09  2020-11-01  2.80  0.336\n",
       "4  NYMEX Natural Gas  2020-03-09  2020-11-01  2.85  0.337"
      ]
     },
     "execution_count": 32,
     "metadata": {},
     "output_type": "execute_result"
    }
   ],
   "source": [
    "NG_IV_df.rename(columns={\"volatilityindex\" : \"index\", \"volatilitydate\" : \"t\", \"strikeprice\" : \"K\",\n",
    "                         \"begtime\" : \"T\", \"volatility\" : \"sigma\"}, inplace=True)\n",
    "NG_IV_df = NG_IV_df[[\"index\", \"t\", \"T\", \"K\", \"sigma\"]]\n",
    "NG_IV_df[\"index\"] = \"NYMEX Natural Gas\"\n",
    "NG_IV_df.head()"
   ]
  },
  {
   "cell_type": "code",
   "execution_count": 33,
   "metadata": {},
   "outputs": [
    {
     "name": "stdout",
     "output_type": "stream",
     "text": [
      "<class 'pandas.core.frame.DataFrame'>\n",
      "Int64Index: 152858 entries, 0 to 60479\n",
      "Data columns (total 5 columns):\n",
      " #   Column  Non-Null Count   Dtype         \n",
      "---  ------  --------------   -----         \n",
      " 0   index   152858 non-null  object        \n",
      " 1   t       152858 non-null  datetime64[ns]\n",
      " 2   T       152858 non-null  datetime64[ns]\n",
      " 3   K       152858 non-null  float64       \n",
      " 4   sigma   152858 non-null  float64       \n",
      "dtypes: datetime64[ns](2), float64(2), object(1)\n",
      "memory usage: 7.0+ MB\n"
     ]
    }
   ],
   "source": [
    "NG_IV_df[\"t\"], NG_IV_df[\"T\"] = pd.to_datetime(NG_IV_df[\"t\"]), pd.to_datetime(NG_IV_df[\"T\"])\n",
    "NG_IV_df.info()"
   ]
  },
  {
   "cell_type": "code",
   "execution_count": 34,
   "metadata": {},
   "outputs": [
    {
     "name": "stdout",
     "output_type": "stream",
     "text": [
      "t_min is 2020-03-02\tt_max is 2020-05-29\n",
      "\n",
      "T_min is 2020-04-01\tT_max is 2022-12-01\n",
      "\n"
     ]
    }
   ],
   "source": [
    "for i in [\"t\", \"T\"]:\n",
    "    print(i + \"_min is \" + str(min(NG_IV_df[i]).date()) + \"\\t\" + i + \"_max is \" + str(max(NG_IV_df[i]).date())\n",
    "          + \"\\n\")\n",
    "del i"
   ]
  },
  {
   "cell_type": "code",
   "execution_count": 35,
   "metadata": {},
   "outputs": [
    {
     "data": {
      "text/html": [
       "<div>\n",
       "<style scoped>\n",
       "    .dataframe tbody tr th:only-of-type {\n",
       "        vertical-align: middle;\n",
       "    }\n",
       "\n",
       "    .dataframe tbody tr th {\n",
       "        vertical-align: top;\n",
       "    }\n",
       "\n",
       "    .dataframe thead th {\n",
       "        text-align: right;\n",
       "    }\n",
       "</style>\n",
       "<table border=\"1\" class=\"dataframe\">\n",
       "  <thead>\n",
       "    <tr style=\"text-align: right;\">\n",
       "      <th></th>\n",
       "      <th>volatilityindex</th>\n",
       "      <th>volatilitydate</th>\n",
       "      <th>strikeprice</th>\n",
       "      <th>begtime</th>\n",
       "      <th>volatility</th>\n",
       "    </tr>\n",
       "  </thead>\n",
       "  <tbody>\n",
       "    <tr>\n",
       "      <th>0</th>\n",
       "      <td>V_WTI NYMEX LIGHT SWEET</td>\n",
       "      <td>2020-03-06</td>\n",
       "      <td>25.0</td>\n",
       "      <td>2020-11-01</td>\n",
       "      <td>0.475</td>\n",
       "    </tr>\n",
       "    <tr>\n",
       "      <th>1</th>\n",
       "      <td>V_WTI NYMEX LIGHT SWEET</td>\n",
       "      <td>2020-03-06</td>\n",
       "      <td>25.5</td>\n",
       "      <td>2020-11-01</td>\n",
       "      <td>0.471</td>\n",
       "    </tr>\n",
       "    <tr>\n",
       "      <th>2</th>\n",
       "      <td>V_WTI NYMEX LIGHT SWEET</td>\n",
       "      <td>2020-03-06</td>\n",
       "      <td>26.0</td>\n",
       "      <td>2020-11-01</td>\n",
       "      <td>0.467</td>\n",
       "    </tr>\n",
       "    <tr>\n",
       "      <th>3</th>\n",
       "      <td>V_WTI NYMEX LIGHT SWEET</td>\n",
       "      <td>2020-03-06</td>\n",
       "      <td>26.5</td>\n",
       "      <td>2020-11-01</td>\n",
       "      <td>0.463</td>\n",
       "    </tr>\n",
       "    <tr>\n",
       "      <th>4</th>\n",
       "      <td>V_WTI NYMEX LIGHT SWEET</td>\n",
       "      <td>2020-03-06</td>\n",
       "      <td>27.0</td>\n",
       "      <td>2020-11-01</td>\n",
       "      <td>0.458</td>\n",
       "    </tr>\n",
       "  </tbody>\n",
       "</table>\n",
       "</div>"
      ],
      "text/plain": [
       "           volatilityindex volatilitydate  strikeprice     begtime  volatility\n",
       "0  V_WTI NYMEX LIGHT SWEET     2020-03-06         25.0  2020-11-01       0.475\n",
       "1  V_WTI NYMEX LIGHT SWEET     2020-03-06         25.5  2020-11-01       0.471\n",
       "2  V_WTI NYMEX LIGHT SWEET     2020-03-06         26.0  2020-11-01       0.467\n",
       "3  V_WTI NYMEX LIGHT SWEET     2020-03-06         26.5  2020-11-01       0.463\n",
       "4  V_WTI NYMEX LIGHT SWEET     2020-03-06         27.0  2020-11-01       0.458"
      ]
     },
     "execution_count": 35,
     "metadata": {},
     "output_type": "execute_result"
    }
   ],
   "source": [
    "WTI_IV_20_df = pd.read_csv(orig_data_dir+\"WTI_ImpliedVols2020.csv\")\n",
    "WTI_IV_20_df.head()"
   ]
  },
  {
   "cell_type": "code",
   "execution_count": 36,
   "metadata": {},
   "outputs": [
    {
     "name": "stdout",
     "output_type": "stream",
     "text": [
      "<class 'pandas.core.frame.DataFrame'>\n",
      "RangeIndex: 32968 entries, 0 to 32967\n",
      "Data columns (total 5 columns):\n",
      " #   Column           Non-Null Count  Dtype  \n",
      "---  ------           --------------  -----  \n",
      " 0   volatilityindex  32968 non-null  object \n",
      " 1   volatilitydate   32968 non-null  object \n",
      " 2   strikeprice      32968 non-null  float64\n",
      " 3   begtime          32968 non-null  object \n",
      " 4   volatility       32968 non-null  float64\n",
      "dtypes: float64(2), object(3)\n",
      "memory usage: 1.3+ MB\n"
     ]
    }
   ],
   "source": [
    "WTI_IV_20_df.info()"
   ]
  },
  {
   "cell_type": "code",
   "execution_count": 37,
   "metadata": {},
   "outputs": [
    {
     "data": {
      "text/html": [
       "<div>\n",
       "<style scoped>\n",
       "    .dataframe tbody tr th:only-of-type {\n",
       "        vertical-align: middle;\n",
       "    }\n",
       "\n",
       "    .dataframe tbody tr th {\n",
       "        vertical-align: top;\n",
       "    }\n",
       "\n",
       "    .dataframe thead th {\n",
       "        text-align: right;\n",
       "    }\n",
       "</style>\n",
       "<table border=\"1\" class=\"dataframe\">\n",
       "  <thead>\n",
       "    <tr style=\"text-align: right;\">\n",
       "      <th></th>\n",
       "      <th>volatilityindex</th>\n",
       "      <th>volatilitydate</th>\n",
       "      <th>strikeprice</th>\n",
       "      <th>begtime</th>\n",
       "      <th>volatility</th>\n",
       "    </tr>\n",
       "  </thead>\n",
       "  <tbody>\n",
       "    <tr>\n",
       "      <th>0</th>\n",
       "      <td>V_WTI NYMEX LIGHT SWEET</td>\n",
       "      <td>2020-03-06</td>\n",
       "      <td>27.0</td>\n",
       "      <td>2021-01-01</td>\n",
       "      <td>0.423</td>\n",
       "    </tr>\n",
       "    <tr>\n",
       "      <th>1</th>\n",
       "      <td>V_WTI NYMEX LIGHT SWEET</td>\n",
       "      <td>2020-03-06</td>\n",
       "      <td>27.5</td>\n",
       "      <td>2021-01-01</td>\n",
       "      <td>0.419</td>\n",
       "    </tr>\n",
       "    <tr>\n",
       "      <th>2</th>\n",
       "      <td>V_WTI NYMEX LIGHT SWEET</td>\n",
       "      <td>2020-03-06</td>\n",
       "      <td>28.0</td>\n",
       "      <td>2021-01-01</td>\n",
       "      <td>0.415</td>\n",
       "    </tr>\n",
       "    <tr>\n",
       "      <th>3</th>\n",
       "      <td>V_WTI NYMEX LIGHT SWEET</td>\n",
       "      <td>2020-03-06</td>\n",
       "      <td>28.5</td>\n",
       "      <td>2021-01-01</td>\n",
       "      <td>0.411</td>\n",
       "    </tr>\n",
       "    <tr>\n",
       "      <th>4</th>\n",
       "      <td>V_WTI NYMEX LIGHT SWEET</td>\n",
       "      <td>2020-03-06</td>\n",
       "      <td>29.0</td>\n",
       "      <td>2021-01-01</td>\n",
       "      <td>0.407</td>\n",
       "    </tr>\n",
       "  </tbody>\n",
       "</table>\n",
       "</div>"
      ],
      "text/plain": [
       "           volatilityindex volatilitydate  strikeprice     begtime  volatility\n",
       "0  V_WTI NYMEX LIGHT SWEET     2020-03-06         27.0  2021-01-01       0.423\n",
       "1  V_WTI NYMEX LIGHT SWEET     2020-03-06         27.5  2021-01-01       0.419\n",
       "2  V_WTI NYMEX LIGHT SWEET     2020-03-06         28.0  2021-01-01       0.415\n",
       "3  V_WTI NYMEX LIGHT SWEET     2020-03-06         28.5  2021-01-01       0.411\n",
       "4  V_WTI NYMEX LIGHT SWEET     2020-03-06         29.0  2021-01-01       0.407"
      ]
     },
     "execution_count": 37,
     "metadata": {},
     "output_type": "execute_result"
    }
   ],
   "source": [
    "WTI_IV_21_df = pd.read_csv(orig_data_dir+\"WTI_ImpliedVols2021.csv\")\n",
    "WTI_IV_21_df.head()"
   ]
  },
  {
   "cell_type": "code",
   "execution_count": 38,
   "metadata": {},
   "outputs": [
    {
     "name": "stdout",
     "output_type": "stream",
     "text": [
      "<class 'pandas.core.frame.DataFrame'>\n",
      "RangeIndex: 35134 entries, 0 to 35133\n",
      "Data columns (total 5 columns):\n",
      " #   Column           Non-Null Count  Dtype  \n",
      "---  ------           --------------  -----  \n",
      " 0   volatilityindex  35134 non-null  object \n",
      " 1   volatilitydate   35134 non-null  object \n",
      " 2   strikeprice      35134 non-null  float64\n",
      " 3   begtime          35134 non-null  object \n",
      " 4   volatility       35134 non-null  float64\n",
      "dtypes: float64(2), object(3)\n",
      "memory usage: 1.3+ MB\n"
     ]
    }
   ],
   "source": [
    "WTI_IV_21_df.info()"
   ]
  },
  {
   "cell_type": "code",
   "execution_count": 39,
   "metadata": {},
   "outputs": [
    {
     "data": {
      "text/html": [
       "<div>\n",
       "<style scoped>\n",
       "    .dataframe tbody tr th:only-of-type {\n",
       "        vertical-align: middle;\n",
       "    }\n",
       "\n",
       "    .dataframe tbody tr th {\n",
       "        vertical-align: top;\n",
       "    }\n",
       "\n",
       "    .dataframe thead th {\n",
       "        text-align: right;\n",
       "    }\n",
       "</style>\n",
       "<table border=\"1\" class=\"dataframe\">\n",
       "  <thead>\n",
       "    <tr style=\"text-align: right;\">\n",
       "      <th></th>\n",
       "      <th>volatilityindex</th>\n",
       "      <th>volatilitydate</th>\n",
       "      <th>strikeprice</th>\n",
       "      <th>begtime</th>\n",
       "      <th>volatility</th>\n",
       "    </tr>\n",
       "  </thead>\n",
       "  <tbody>\n",
       "    <tr>\n",
       "      <th>0</th>\n",
       "      <td>V_WTI NYMEX LIGHT SWEET</td>\n",
       "      <td>2020-03-06</td>\n",
       "      <td>31.5</td>\n",
       "      <td>2022-06-01</td>\n",
       "      <td>0.265</td>\n",
       "    </tr>\n",
       "    <tr>\n",
       "      <th>1</th>\n",
       "      <td>V_WTI NYMEX LIGHT SWEET</td>\n",
       "      <td>2020-03-06</td>\n",
       "      <td>32.0</td>\n",
       "      <td>2022-06-01</td>\n",
       "      <td>0.265</td>\n",
       "    </tr>\n",
       "    <tr>\n",
       "      <th>2</th>\n",
       "      <td>V_WTI NYMEX LIGHT SWEET</td>\n",
       "      <td>2020-03-06</td>\n",
       "      <td>32.5</td>\n",
       "      <td>2022-06-01</td>\n",
       "      <td>0.265</td>\n",
       "    </tr>\n",
       "    <tr>\n",
       "      <th>3</th>\n",
       "      <td>V_WTI NYMEX LIGHT SWEET</td>\n",
       "      <td>2020-03-06</td>\n",
       "      <td>33.0</td>\n",
       "      <td>2022-06-01</td>\n",
       "      <td>0.265</td>\n",
       "    </tr>\n",
       "    <tr>\n",
       "      <th>4</th>\n",
       "      <td>V_WTI NYMEX LIGHT SWEET</td>\n",
       "      <td>2020-03-06</td>\n",
       "      <td>33.5</td>\n",
       "      <td>2022-06-01</td>\n",
       "      <td>0.264</td>\n",
       "    </tr>\n",
       "  </tbody>\n",
       "</table>\n",
       "</div>"
      ],
      "text/plain": [
       "           volatilityindex volatilitydate  strikeprice     begtime  volatility\n",
       "0  V_WTI NYMEX LIGHT SWEET     2020-03-06         31.5  2022-06-01       0.265\n",
       "1  V_WTI NYMEX LIGHT SWEET     2020-03-06         32.0  2022-06-01       0.265\n",
       "2  V_WTI NYMEX LIGHT SWEET     2020-03-06         32.5  2022-06-01       0.265\n",
       "3  V_WTI NYMEX LIGHT SWEET     2020-03-06         33.0  2022-06-01       0.265\n",
       "4  V_WTI NYMEX LIGHT SWEET     2020-03-06         33.5  2022-06-01       0.264"
      ]
     },
     "execution_count": 39,
     "metadata": {},
     "output_type": "execute_result"
    }
   ],
   "source": [
    "WTI_IV_22_df = pd.read_csv(orig_data_dir+\"WTI_ImpliedVols2022.csv\")\n",
    "WTI_IV_22_df.head()"
   ]
  },
  {
   "cell_type": "code",
   "execution_count": 40,
   "metadata": {},
   "outputs": [
    {
     "name": "stdout",
     "output_type": "stream",
     "text": [
      "<class 'pandas.core.frame.DataFrame'>\n",
      "RangeIndex: 9639 entries, 0 to 9638\n",
      "Data columns (total 5 columns):\n",
      " #   Column           Non-Null Count  Dtype  \n",
      "---  ------           --------------  -----  \n",
      " 0   volatilityindex  9639 non-null   object \n",
      " 1   volatilitydate   9639 non-null   object \n",
      " 2   strikeprice      9639 non-null   float64\n",
      " 3   begtime          9639 non-null   object \n",
      " 4   volatility       9639 non-null   float64\n",
      "dtypes: float64(2), object(3)\n",
      "memory usage: 376.6+ KB\n"
     ]
    }
   ],
   "source": [
    "WTI_IV_22_df.info()"
   ]
  },
  {
   "cell_type": "code",
   "execution_count": 41,
   "metadata": {},
   "outputs": [],
   "source": [
    "frames = [WTI_IV_20_df, WTI_IV_21_df, WTI_IV_22_df]\n",
    "WTI_IV_df = pd.concat(frames)\n",
    "\n",
    "del frames"
   ]
  },
  {
   "cell_type": "code",
   "execution_count": 42,
   "metadata": {},
   "outputs": [
    {
     "data": {
      "text/html": [
       "<div>\n",
       "<style scoped>\n",
       "    .dataframe tbody tr th:only-of-type {\n",
       "        vertical-align: middle;\n",
       "    }\n",
       "\n",
       "    .dataframe tbody tr th {\n",
       "        vertical-align: top;\n",
       "    }\n",
       "\n",
       "    .dataframe thead th {\n",
       "        text-align: right;\n",
       "    }\n",
       "</style>\n",
       "<table border=\"1\" class=\"dataframe\">\n",
       "  <thead>\n",
       "    <tr style=\"text-align: right;\">\n",
       "      <th></th>\n",
       "      <th>index</th>\n",
       "      <th>t</th>\n",
       "      <th>T</th>\n",
       "      <th>K</th>\n",
       "      <th>sigma</th>\n",
       "    </tr>\n",
       "  </thead>\n",
       "  <tbody>\n",
       "    <tr>\n",
       "      <th>0</th>\n",
       "      <td>WTI NYMEX LIGHT SWEET</td>\n",
       "      <td>2020-03-06</td>\n",
       "      <td>2020-11-01</td>\n",
       "      <td>25.0</td>\n",
       "      <td>0.475</td>\n",
       "    </tr>\n",
       "    <tr>\n",
       "      <th>1</th>\n",
       "      <td>WTI NYMEX LIGHT SWEET</td>\n",
       "      <td>2020-03-06</td>\n",
       "      <td>2020-11-01</td>\n",
       "      <td>25.5</td>\n",
       "      <td>0.471</td>\n",
       "    </tr>\n",
       "    <tr>\n",
       "      <th>2</th>\n",
       "      <td>WTI NYMEX LIGHT SWEET</td>\n",
       "      <td>2020-03-06</td>\n",
       "      <td>2020-11-01</td>\n",
       "      <td>26.0</td>\n",
       "      <td>0.467</td>\n",
       "    </tr>\n",
       "    <tr>\n",
       "      <th>3</th>\n",
       "      <td>WTI NYMEX LIGHT SWEET</td>\n",
       "      <td>2020-03-06</td>\n",
       "      <td>2020-11-01</td>\n",
       "      <td>26.5</td>\n",
       "      <td>0.463</td>\n",
       "    </tr>\n",
       "    <tr>\n",
       "      <th>4</th>\n",
       "      <td>WTI NYMEX LIGHT SWEET</td>\n",
       "      <td>2020-03-06</td>\n",
       "      <td>2020-11-01</td>\n",
       "      <td>27.0</td>\n",
       "      <td>0.458</td>\n",
       "    </tr>\n",
       "  </tbody>\n",
       "</table>\n",
       "</div>"
      ],
      "text/plain": [
       "                   index           t           T     K  sigma\n",
       "0  WTI NYMEX LIGHT SWEET  2020-03-06  2020-11-01  25.0  0.475\n",
       "1  WTI NYMEX LIGHT SWEET  2020-03-06  2020-11-01  25.5  0.471\n",
       "2  WTI NYMEX LIGHT SWEET  2020-03-06  2020-11-01  26.0  0.467\n",
       "3  WTI NYMEX LIGHT SWEET  2020-03-06  2020-11-01  26.5  0.463\n",
       "4  WTI NYMEX LIGHT SWEET  2020-03-06  2020-11-01  27.0  0.458"
      ]
     },
     "execution_count": 42,
     "metadata": {},
     "output_type": "execute_result"
    }
   ],
   "source": [
    "WTI_IV_df.rename(columns={\"volatilityindex\" : \"index\", \"volatilitydate\" : \"t\", \"strikeprice\" : \"K\",\n",
    "                         \"begtime\" : \"T\", \"volatility\" : \"sigma\"}, inplace=True)\n",
    "WTI_IV_df = WTI_IV_df[[\"index\", \"t\", \"T\", \"K\", \"sigma\"]]\n",
    "WTI_IV_df[\"index\"] = \"WTI NYMEX LIGHT SWEET\"\n",
    "WTI_IV_df.head()"
   ]
  },
  {
   "cell_type": "code",
   "execution_count": 43,
   "metadata": {},
   "outputs": [
    {
     "name": "stdout",
     "output_type": "stream",
     "text": [
      "<class 'pandas.core.frame.DataFrame'>\n",
      "Int64Index: 77741 entries, 0 to 9638\n",
      "Data columns (total 5 columns):\n",
      " #   Column  Non-Null Count  Dtype         \n",
      "---  ------  --------------  -----         \n",
      " 0   index   77741 non-null  object        \n",
      " 1   t       77741 non-null  datetime64[ns]\n",
      " 2   T       77741 non-null  datetime64[ns]\n",
      " 3   K       77741 non-null  float64       \n",
      " 4   sigma   77741 non-null  float64       \n",
      "dtypes: datetime64[ns](2), float64(2), object(1)\n",
      "memory usage: 3.6+ MB\n"
     ]
    }
   ],
   "source": [
    "WTI_IV_df[\"t\"], WTI_IV_df[\"T\"] = pd.to_datetime(WTI_IV_df[\"t\"]), pd.to_datetime(WTI_IV_df[\"T\"])\n",
    "WTI_IV_df.info()"
   ]
  },
  {
   "cell_type": "code",
   "execution_count": 44,
   "metadata": {},
   "outputs": [
    {
     "name": "stdout",
     "output_type": "stream",
     "text": [
      "t_min is 2020-03-02\tt_max is 2020-05-29\n",
      "\n",
      "T_min is 2020-04-01\tT_max is 2022-12-01\n",
      "\n"
     ]
    }
   ],
   "source": [
    "for i in [\"t\", \"T\"]:\n",
    "    print(i + \"_min is \" + str(min(WTI_IV_df[i]).date()) + \"\\t\" + i + \"_max is \" + str(max(WTI_IV_df[i]).date())\n",
    "          + \"\\n\")\n",
    "del i"
   ]
  },
  {
   "cell_type": "code",
   "execution_count": 45,
   "metadata": {},
   "outputs": [
    {
     "data": {
      "text/html": [
       "<div>\n",
       "<style scoped>\n",
       "    .dataframe tbody tr th:only-of-type {\n",
       "        vertical-align: middle;\n",
       "    }\n",
       "\n",
       "    .dataframe tbody tr th {\n",
       "        vertical-align: top;\n",
       "    }\n",
       "\n",
       "    .dataframe thead th {\n",
       "        text-align: right;\n",
       "    }\n",
       "</style>\n",
       "<table border=\"1\" class=\"dataframe\">\n",
       "  <thead>\n",
       "    <tr style=\"text-align: right;\">\n",
       "      <th></th>\n",
       "      <th>pricedate</th>\n",
       "      <th>maturity</th>\n",
       "      <th>bidrate</th>\n",
       "    </tr>\n",
       "  </thead>\n",
       "  <tbody>\n",
       "    <tr>\n",
       "      <th>0</th>\n",
       "      <td>2020-03-02</td>\n",
       "      <td>100M</td>\n",
       "      <td>1.463333</td>\n",
       "    </tr>\n",
       "    <tr>\n",
       "      <th>1</th>\n",
       "      <td>2020-03-02</td>\n",
       "      <td>101M</td>\n",
       "      <td>1.466667</td>\n",
       "    </tr>\n",
       "    <tr>\n",
       "      <th>2</th>\n",
       "      <td>2020-03-02</td>\n",
       "      <td>102M</td>\n",
       "      <td>1.470001</td>\n",
       "    </tr>\n",
       "    <tr>\n",
       "      <th>3</th>\n",
       "      <td>2020-03-02</td>\n",
       "      <td>103M</td>\n",
       "      <td>1.478335</td>\n",
       "    </tr>\n",
       "    <tr>\n",
       "      <th>4</th>\n",
       "      <td>2020-03-02</td>\n",
       "      <td>104M</td>\n",
       "      <td>1.486669</td>\n",
       "    </tr>\n",
       "  </tbody>\n",
       "</table>\n",
       "</div>"
      ],
      "text/plain": [
       "    pricedate maturity   bidrate\n",
       "0  2020-03-02     100M  1.463333\n",
       "1  2020-03-02     101M  1.466667\n",
       "2  2020-03-02     102M  1.470001\n",
       "3  2020-03-02     103M  1.478335\n",
       "4  2020-03-02     104M  1.486669"
      ]
     },
     "execution_count": 45,
     "metadata": {},
     "output_type": "execute_result"
    }
   ],
   "source": [
    "IR_df = pd.read_csv(orig_data_dir+\"InterestRates.csv\")\n",
    "IR_df.head()"
   ]
  },
  {
   "cell_type": "code",
   "execution_count": 46,
   "metadata": {},
   "outputs": [
    {
     "name": "stdout",
     "output_type": "stream",
     "text": [
      "<class 'pandas.core.frame.DataFrame'>\n",
      "RangeIndex: 7085 entries, 0 to 7084\n",
      "Data columns (total 3 columns):\n",
      " #   Column     Non-Null Count  Dtype         \n",
      "---  ------     --------------  -----         \n",
      " 0   pricedate  7085 non-null   datetime64[ns]\n",
      " 1   maturity   7085 non-null   object        \n",
      " 2   bidrate    7085 non-null   float64       \n",
      "dtypes: datetime64[ns](1), float64(1), object(1)\n",
      "memory usage: 166.2+ KB\n"
     ]
    }
   ],
   "source": [
    "IR_df.pricedate = pd.to_datetime(IR_df.pricedate)\n",
    "IR_df.info()"
   ]
  },
  {
   "cell_type": "code",
   "execution_count": 47,
   "metadata": {},
   "outputs": [],
   "source": [
    "t = IR_df.pricedate.to_list()\n",
    "ttm = [to_offset(i) for i in IR_df.maturity]\n",
    "T = [t[i] + ttm[i] + to_offset(\"1D\") for i in range(len(ttm))]\n",
    "IR_df.maturity = T"
   ]
  },
  {
   "cell_type": "code",
   "execution_count": 48,
   "metadata": {},
   "outputs": [
    {
     "data": {
      "text/html": [
       "<div>\n",
       "<style scoped>\n",
       "    .dataframe tbody tr th:only-of-type {\n",
       "        vertical-align: middle;\n",
       "    }\n",
       "\n",
       "    .dataframe tbody tr th {\n",
       "        vertical-align: top;\n",
       "    }\n",
       "\n",
       "    .dataframe thead th {\n",
       "        text-align: right;\n",
       "    }\n",
       "</style>\n",
       "<table border=\"1\" class=\"dataframe\">\n",
       "  <thead>\n",
       "    <tr style=\"text-align: right;\">\n",
       "      <th></th>\n",
       "      <th>pricedate</th>\n",
       "      <th>maturity</th>\n",
       "      <th>bidrate</th>\n",
       "    </tr>\n",
       "  </thead>\n",
       "  <tbody>\n",
       "    <tr>\n",
       "      <th>0</th>\n",
       "      <td>2020-03-02</td>\n",
       "      <td>2028-07-01</td>\n",
       "      <td>1.463333</td>\n",
       "    </tr>\n",
       "    <tr>\n",
       "      <th>1</th>\n",
       "      <td>2020-03-02</td>\n",
       "      <td>2028-08-01</td>\n",
       "      <td>1.466667</td>\n",
       "    </tr>\n",
       "    <tr>\n",
       "      <th>2</th>\n",
       "      <td>2020-03-02</td>\n",
       "      <td>2028-09-01</td>\n",
       "      <td>1.470001</td>\n",
       "    </tr>\n",
       "    <tr>\n",
       "      <th>3</th>\n",
       "      <td>2020-03-02</td>\n",
       "      <td>2028-10-01</td>\n",
       "      <td>1.478335</td>\n",
       "    </tr>\n",
       "    <tr>\n",
       "      <th>4</th>\n",
       "      <td>2020-03-02</td>\n",
       "      <td>2028-11-01</td>\n",
       "      <td>1.486669</td>\n",
       "    </tr>\n",
       "  </tbody>\n",
       "</table>\n",
       "</div>"
      ],
      "text/plain": [
       "   pricedate   maturity   bidrate\n",
       "0 2020-03-02 2028-07-01  1.463333\n",
       "1 2020-03-02 2028-08-01  1.466667\n",
       "2 2020-03-02 2028-09-01  1.470001\n",
       "3 2020-03-02 2028-10-01  1.478335\n",
       "4 2020-03-02 2028-11-01  1.486669"
      ]
     },
     "execution_count": 48,
     "metadata": {},
     "output_type": "execute_result"
    }
   ],
   "source": [
    "IR_df.head()"
   ]
  },
  {
   "cell_type": "code",
   "execution_count": 49,
   "metadata": {},
   "outputs": [
    {
     "data": {
      "text/html": [
       "<div>\n",
       "<style scoped>\n",
       "    .dataframe tbody tr th:only-of-type {\n",
       "        vertical-align: middle;\n",
       "    }\n",
       "\n",
       "    .dataframe tbody tr th {\n",
       "        vertical-align: top;\n",
       "    }\n",
       "\n",
       "    .dataframe thead th {\n",
       "        text-align: right;\n",
       "    }\n",
       "</style>\n",
       "<table border=\"1\" class=\"dataframe\">\n",
       "  <thead>\n",
       "    <tr style=\"text-align: right;\">\n",
       "      <th></th>\n",
       "      <th>t</th>\n",
       "      <th>T</th>\n",
       "      <th>r</th>\n",
       "    </tr>\n",
       "  </thead>\n",
       "  <tbody>\n",
       "    <tr>\n",
       "      <th>0</th>\n",
       "      <td>2020-03-02</td>\n",
       "      <td>2028-07-01</td>\n",
       "      <td>1.463333</td>\n",
       "    </tr>\n",
       "    <tr>\n",
       "      <th>1</th>\n",
       "      <td>2020-03-02</td>\n",
       "      <td>2028-08-01</td>\n",
       "      <td>1.466667</td>\n",
       "    </tr>\n",
       "    <tr>\n",
       "      <th>2</th>\n",
       "      <td>2020-03-02</td>\n",
       "      <td>2028-09-01</td>\n",
       "      <td>1.470001</td>\n",
       "    </tr>\n",
       "    <tr>\n",
       "      <th>3</th>\n",
       "      <td>2020-03-02</td>\n",
       "      <td>2028-10-01</td>\n",
       "      <td>1.478335</td>\n",
       "    </tr>\n",
       "    <tr>\n",
       "      <th>4</th>\n",
       "      <td>2020-03-02</td>\n",
       "      <td>2028-11-01</td>\n",
       "      <td>1.486669</td>\n",
       "    </tr>\n",
       "  </tbody>\n",
       "</table>\n",
       "</div>"
      ],
      "text/plain": [
       "           t          T         r\n",
       "0 2020-03-02 2028-07-01  1.463333\n",
       "1 2020-03-02 2028-08-01  1.466667\n",
       "2 2020-03-02 2028-09-01  1.470001\n",
       "3 2020-03-02 2028-10-01  1.478335\n",
       "4 2020-03-02 2028-11-01  1.486669"
      ]
     },
     "execution_count": 49,
     "metadata": {},
     "output_type": "execute_result"
    }
   ],
   "source": [
    "IR_df.rename(columns={\"pricedate\" : \"t\", \"maturity\" : \"T\", \"bidrate\": \"r\"}, inplace=True)\n",
    "IR_df.head()"
   ]
  },
  {
   "cell_type": "code",
   "execution_count": 50,
   "metadata": {},
   "outputs": [
    {
     "name": "stdout",
     "output_type": "stream",
     "text": [
      "t_min is 2020-03-02\tt_max is 2020-05-29\n",
      "\n",
      "T_min is 2020-04-01\tT_max is 2029-06-01\n",
      "\n"
     ]
    }
   ],
   "source": [
    "for i in [\"t\", \"T\"]:\n",
    "    print(i + \"_min is \" + str(min(IR_df[i]).date()) + \"\\t\" + i + \"_max is \" + str(max(IR_df[i]).date())\n",
    "          + \"\\n\")\n",
    "del i"
   ]
  },
  {
   "cell_type": "code",
   "execution_count": 51,
   "metadata": {},
   "outputs": [],
   "source": [
    "NG_IV_df.set_index([\"t\", \"T\"], inplace=True)\n",
    "WTI_IV_df.set_index([\"t\", \"T\"], inplace=True)\n",
    "IR_df.set_index([\"t\", \"T\"], inplace=True)"
   ]
  },
  {
   "cell_type": "code",
   "execution_count": 52,
   "metadata": {},
   "outputs": [
    {
     "name": "stdout",
     "output_type": "stream",
     "text": [
      "<class 'pandas.core.frame.DataFrame'>\n",
      "MultiIndex: 152857 entries, (Timestamp('2020-03-02 00:00:00'), Timestamp('2020-04-01 00:00:00')) to (Timestamp('2020-05-29 00:00:00'), Timestamp('2022-12-01 00:00:00'))\n",
      "Data columns (total 4 columns):\n",
      " #   Column  Non-Null Count   Dtype  \n",
      "---  ------  --------------   -----  \n",
      " 0   index   152857 non-null  object \n",
      " 1   K       152857 non-null  float64\n",
      " 2   sigma   152857 non-null  float64\n",
      " 3   r       152857 non-null  float64\n",
      "dtypes: float64(3), object(1)\n",
      "memory usage: 5.0+ MB\n"
     ]
    }
   ],
   "source": [
    "NG_option_df = NG_IV_df.merge(IR_df, how=\"inner\", left_index=True, right_index=True)\n",
    "NG_option_df.reset_index()\n",
    "NG_option_df.info()"
   ]
  },
  {
   "cell_type": "code",
   "execution_count": 53,
   "metadata": {},
   "outputs": [],
   "source": [
    "NG_option_df.to_csv(r\"./data/wrangled_data/NG_option.csv\")"
   ]
  },
  {
   "cell_type": "code",
   "execution_count": 54,
   "metadata": {},
   "outputs": [
    {
     "name": "stdout",
     "output_type": "stream",
     "text": [
      "<class 'pandas.core.frame.DataFrame'>\n",
      "MultiIndex: 79354 entries, (Timestamp('2020-03-02 00:00:00'), Timestamp('2020-04-01 00:00:00')) to (Timestamp('2020-05-29 00:00:00'), Timestamp('2022-12-01 00:00:00'))\n",
      "Data columns (total 4 columns):\n",
      " #   Column  Non-Null Count  Dtype  \n",
      "---  ------  --------------  -----  \n",
      " 0   index   79354 non-null  object \n",
      " 1   K       79354 non-null  float64\n",
      " 2   sigma   79354 non-null  float64\n",
      " 3   r       79354 non-null  float64\n",
      "dtypes: float64(3), object(1)\n",
      "memory usage: 2.6+ MB\n"
     ]
    }
   ],
   "source": [
    "WTI_option_df = WTI_IV_df.merge(IR_df, how=\"inner\", left_index=True, right_index=True)\n",
    "WTI_option_df.reset_index()\n",
    "WTI_option_df.info()"
   ]
  },
  {
   "cell_type": "code",
   "execution_count": 55,
   "metadata": {},
   "outputs": [],
   "source": [
    "NG_option_df.to_csv(r\"./data/wrangled_data/WTI_option.csv\")"
   ]
  },
  {
   "cell_type": "code",
   "execution_count": 56,
   "metadata": {},
   "outputs": [
    {
     "name": "stdout",
     "output_type": "stream",
     "text": [
      "WTI_futures.csv\n",
      "NG_option.csv\n",
      "WTI_option.csv\n",
      "AECO_futures.csv\n",
      "NG_futures.csv\n"
     ]
    }
   ],
   "source": [
    "print(*os.listdir(\"./data/wrangled_data/\"), sep=\"\\n\")"
   ]
  }
 ],
 "metadata": {
  "kernelspec": {
   "display_name": "Python 3",
   "language": "python",
   "name": "python3"
  },
  "language_info": {
   "codemirror_mode": {
    "name": "ipython",
    "version": 3
   },
   "file_extension": ".py",
   "mimetype": "text/x-python",
   "name": "python",
   "nbconvert_exporter": "python",
   "pygments_lexer": "ipython3",
   "version": "3.6.9"
  }
 },
 "nbformat": 4,
 "nbformat_minor": 4
}
